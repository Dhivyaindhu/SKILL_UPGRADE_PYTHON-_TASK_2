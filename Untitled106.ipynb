{
  "nbformat": 4,
  "nbformat_minor": 0,
  "metadata": {
    "colab": {
      "provenance": [],
      "authorship_tag": "ABX9TyNtfkW+QnWbAfjtVzrDB3mq",
      "include_colab_link": true
    },
    "kernelspec": {
      "name": "python3",
      "display_name": "Python 3"
    },
    "language_info": {
      "name": "python"
    }
  },
  "cells": [
    {
      "cell_type": "markdown",
      "metadata": {
        "id": "view-in-github",
        "colab_type": "text"
      },
      "source": [
        "<a href=\"https://colab.research.google.com/github/Dhivyaindhu/SKILL_UPGRADE_PYTHON-_TASK_2/blob/main/Untitled106.ipynb\" target=\"_parent\"><img src=\"https://colab.research.google.com/assets/colab-badge.svg\" alt=\"Open In Colab\"/></a>"
      ]
    },
    {
      "cell_type": "code",
      "source": [
        "import json\n",
        "import os\n",
        "\n",
        "# Define the path for storing tasks\n",
        "TASKS_FILE = 'tasks.json'\n",
        "\n",
        "def load_tasks():\n",
        "    if os.path.exists(TASKS_FILE):\n",
        "        with open(TASKS_FILE, 'r') as file:\n",
        "            return json.load(file)\n",
        "    return []\n",
        "\n",
        "def save_tasks(tasks):\n",
        "    with open(TASKS_FILE, 'w') as file:\n",
        "        json.dump(tasks, file)\n",
        "\n",
        "def display_tasks(tasks):\n",
        "    os.system('cls' if os.name == 'nt' else 'clear')  # Clear the screen\n",
        "    print(\"Your To-Do List:\")\n",
        "    for index, task in enumerate(tasks, start=1):\n",
        "        status = \"✔️\" if task['completed'] else \"❌\"\n",
        "        print(f\"{index}. {task['description']} [{status}]\")\n",
        "    print(\"\\n\")\n",
        "\n",
        "def add_task(tasks):\n",
        "    task_description = input(\"Enter the task description: \")\n",
        "    tasks.append({\"description\": task_description, \"completed\": False})\n",
        "    print(\"Task added successfully!\\n\")\n",
        "\n",
        "def mark_task_complete(tasks):\n",
        "    display_tasks(tasks)\n",
        "    task_number = int(input(\"Enter the task number to mark as complete: \"))\n",
        "    if 0 < task_number <= len(tasks):\n",
        "        tasks[task_number - 1]['completed'] = True\n",
        "        print(\"Task marked as completed!\\n\")\n",
        "    else:\n",
        "        print(\"Invalid task number.\\n\")\n",
        "\n",
        "def remove_task(tasks):\n",
        "    display_tasks(tasks)\n",
        "    task_number = int(input(\"Enter the task number to remove: \"))\n",
        "    if 0 < task_number <= len(tasks):\n",
        "        tasks.pop(task_number - 1)\n",
        "        print(\"Task removed successfully!\\n\")\n",
        "    else:\n",
        "        print(\"Invalid task number.\\n\")\n",
        "\n",
        "def main():\n",
        "    tasks = load_tasks()\n",
        "    while True:\n",
        "        display_tasks(tasks)\n",
        "        print(\"Options:\")\n",
        "        print(\"1. Add Task\")\n",
        "        print(\"2. Mark Task as Complete\")\n",
        "        print(\"3. Remove Task\")\n",
        "        print(\"4. Exit\")\n",
        "\n",
        "        choice = input(\"Enter your choice (1/2/3/4): \")\n",
        "\n",
        "        if choice == '1':\n",
        "            add_task(tasks)\n",
        "        elif choice == '2':\n",
        "            mark_task_complete(tasks)\n",
        "        elif choice == '3':\n",
        "            remove_task(tasks)\n",
        "        elif choice == '4':\n",
        "            save_tasks(tasks)\n",
        "            break\n",
        "        else:\n",
        "            print(\"Invalid choice! Please try again.\\n\")\n",
        "\n",
        "if __name__ == \"__main__\":\n",
        "    main()\n"
      ],
      "metadata": {
        "colab": {
          "base_uri": "https://localhost:8080/"
        },
        "id": "OAqAfWzvGgvp",
        "outputId": "fdd9464c-61f1-4d3b-e60c-d3e192c16287"
      },
      "execution_count": 1,
      "outputs": [
        {
          "name": "stdout",
          "output_type": "stream",
          "text": [
            "Your To-Do List:\n",
            "\n",
            "\n",
            "Options:\n",
            "1. Add Task\n",
            "2. Mark Task as Complete\n",
            "3. Remove Task\n",
            "4. Exit\n",
            "Enter your choice (1/2/3/4): 1\n",
            "Enter the task description: writing poems\n",
            "Task added successfully!\n",
            "\n",
            "Your To-Do List:\n",
            "1. writing poems [❌]\n",
            "\n",
            "\n",
            "Options:\n",
            "1. Add Task\n",
            "2. Mark Task as Complete\n",
            "3. Remove Task\n",
            "4. Exit\n",
            "Enter your choice (1/2/3/4): 2\n",
            "Your To-Do List:\n",
            "1. writing poems [❌]\n",
            "\n",
            "\n",
            "Enter the task number to mark as complete: 1\n",
            "Task marked as completed!\n",
            "\n",
            "Your To-Do List:\n",
            "1. writing poems [✔️]\n",
            "\n",
            "\n",
            "Options:\n",
            "1. Add Task\n",
            "2. Mark Task as Complete\n",
            "3. Remove Task\n",
            "4. Exit\n",
            "Enter your choice (1/2/3/4): 1\n",
            "Enter the task description: story writing\n",
            "Task added successfully!\n",
            "\n",
            "Your To-Do List:\n",
            "1. writing poems [✔️]\n",
            "2. story writing [❌]\n",
            "\n",
            "\n",
            "Options:\n",
            "1. Add Task\n",
            "2. Mark Task as Complete\n",
            "3. Remove Task\n",
            "4. Exit\n",
            "Enter your choice (1/2/3/4): 4\n"
          ]
        }
      ]
    },
    {
      "cell_type": "code",
      "source": [],
      "metadata": {
        "id": "eXGv4ROhHa3w"
      },
      "execution_count": null,
      "outputs": []
    }
  ]
}